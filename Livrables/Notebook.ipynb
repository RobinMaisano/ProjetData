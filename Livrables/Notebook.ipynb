{
 "cells": [
  {
   "cell_type": "markdown",
   "metadata": {},
   "source": [
    "# NoteBook"
   ]
  },
  {
   "cell_type": "markdown",
   "metadata": {},
   "source": [
    "\n",
    "\n",
    "## Description de l'algorithme\n",
    "\n",
    "\n",
    "\n",
    "### Modélisation du problème algorithmique :\n",
    "\n",
    "#### Définition du problème formel :\n",
    "\n",
    "#### Étude de complexité :\n",
    "\n",
    "###  Présentation du choix et description de l'algorithme\n",
    "\n",
    "####  Fonctionnement, paramètres\n",
    "####  Spécificités algorithmiques éventuelles ajoutées à la méthode\n",
    "####  Modélisation du problème selon le formalisme de l'algorithme\n",
    "\n",
    "###   Illustration avec différents cas de tests\n",
    "\n",
    "## Étude statistique du comportement expérimental, à l'aide de dataset générés aléatoirement, mais aussi éventuellement de dataset issus de la recherche scientifique\n",
    "\n",
    "\n",
    "###  Statistiques descriptives, voire prédictives, du comportement de l'algorithme, mises en regard avec l’industrie\n",
    "\n",
    "###   Exploitation des paramètres de l'instance du problème (taille et largeur du graphe, degré, nombre d'objets, taille et valeur des objets, nombre de véhicules, nombre de points de livraison...), et des paramètres de l'algorithme (température, taille de liste tabou, nombre de mutations etc.)\n",
    "\n",
    "### Analyse et commentaire des résultats d'analyse (qualité des solutions, temps de convergence, nombre d'itérations, espace mémoire...)"
   ]
  },
  {
   "cell_type": "code",
   "execution_count": null,
   "metadata": {},
   "outputs": [],
   "source": []
  }
 ],
 "metadata": {
  "celltoolbar": "Format de la Cellule Texte Brut",
  "kernelspec": {
   "display_name": "Python 3",
   "language": "python",
   "name": "python3"
  },
  "language_info": {
   "codemirror_mode": {
    "name": "ipython",
    "version": 3
   },
   "file_extension": ".py",
   "mimetype": "text/x-python",
   "name": "python",
   "nbconvert_exporter": "python",
   "pygments_lexer": "ipython3",
   "version": "3.7.3"
  }
 },
 "nbformat": 4,
 "nbformat_minor": 2
}
